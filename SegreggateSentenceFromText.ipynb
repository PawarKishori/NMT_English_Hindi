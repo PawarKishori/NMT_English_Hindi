{
  "nbformat": 4,
  "nbformat_minor": 0,
  "metadata": {
    "colab": {
      "name": "SegreggateSentenceFromText.ipynb",
      "provenance": [],
      "collapsed_sections": [],
      "machine_shape": "hm"
    },
    "kernelspec": {
      "name": "python3",
      "display_name": "Python 3"
    },
    "language_info": {
      "name": "python"
    },
    "accelerator": "GPU"
  },
  "cells": [
    {
      "cell_type": "markdown",
      "metadata": {
        "id": "VbL0uIafzCCh"
      },
      "source": [
        "#Input: Text file having english text in paragraph style\n",
        "#Output: Another text file with single english sentence per line\n",
        "#Algorithm:\n",
        "  ##Read the input file\n",
        "  ##Split the text for '.' delimiter in a list\n",
        "  ##Create new text file.\n",
        "  ##Write each line from teh list to this text file"
      ]
    },
    {
      "cell_type": "code",
      "metadata": {
        "id": "WGhHmc7m6DQS"
      },
      "source": [
        "import os;"
      ],
      "execution_count": null,
      "outputs": []
    },
    {
      "cell_type": "code",
      "metadata": {
        "id": "9HTYMbnsysIi"
      },
      "source": [
        "with open(os.path.join(\"/content/eng_translation.txt\"), \"r\",errors='ignore') as f:\n",
        "  english_text = f.read()\n",
        "  #english_text = f.read().encode('utf-8').strip()\n",
        "\n",
        "#english_text = english_text.replace(\"\\n\", \"\")\n",
        "english_text_paras = english_text.split(\"\\n\")\n",
        "english_sentences = ''\n",
        "\n",
        "for paras in english_text_paras:\n",
        "  english_sentences = paras.split(\".\")\n",
        "  for sentence in english_sentences:\n",
        "    print(sentence)"
      ],
      "execution_count": null,
      "outputs": []
    },
    {
      "cell_type": "markdown",
      "metadata": {
        "id": "xh4EWaRjy6aE"
      },
      "source": [
        ""
      ]
    },
    {
      "cell_type": "code",
      "metadata": {
        "id": "2gflGd0r5--8"
      },
      "source": [
        "textfile = open(\"eng_lineByLine.txt\", \"w\")\n",
        "for paras in english_text_paras:\n",
        "  english_sentences = paras.split(\".\")\n",
        "  for sentence in english_sentences:\n",
        "    textfile.write(sentence + \"\\n\")\n",
        "textfile.close()"
      ],
      "execution_count": null,
      "outputs": []
    },
    {
      "cell_type": "code",
      "metadata": {
        "id": "OZ-OR4sw7JuX"
      },
      "source": [
        ""
      ],
      "execution_count": null,
      "outputs": []
    }
  ]
}