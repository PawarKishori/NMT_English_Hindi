{
 "cells": [
  {
   "cell_type": "code",
   "execution_count": 25,
   "id": "hearing-luxury",
   "metadata": {},
   "outputs": [
    {
     "name": "stdout",
     "output_type": "stream",
     "text": [
      "77\n",
      "58\n",
      "58\n",
      "81\n",
      "79\n"
     ]
    }
   ],
   "source": [
    "# cp = open('champollion/E28_The_True_Miracle_of_Life.txt_align.txt').read().split('\\n')\n",
    "# bi_en = open('parallel/SentPerLine/EH28/E28_The_True_Miracle_of_Life.txt.aligned').read().split('\\n')\n",
    "# bi_hi = open('parallel/SentPerLine/EH28/H28_Hindi_Dubbing_Script_-_The_True_Miracle_of_Life.txt.aligned').read().split('\\n')\n",
    "# eng = open('parallel/SentPerLine/EH28/E28_The_True_Miracle_of_Life.txt').read().split('\\n')\n",
    "# hin = open('parallel/SentPerLine/EH28/H28_Hindi_Dubbing_Script_-_The_True_Miracle_of_Life.txt').read().split('\\n')\n",
    "\n",
    "cp = open('champollion/E1_The_Simplest_Way_to_a_Healthy_Life.txt_align.txt').read().split('\\n')\n",
    "eng = open('champollion/E1_The_Simplest_Way_to_a_Healthy_Life.txt').read().split('\\n')\n",
    "hin = open('champollion/H1_Hindi_Dubbing_Script_-_The_Simplest_Way_to_a_Healthy_Life.txt').read().split('\\n')\n",
    "# print(cp)\n",
    "print(len(cp))\n",
    "# print(bi_en)\n",
    "print(len(bi_en))\n",
    "print(len(bi_hi))\n",
    "print(len(eng))\n",
    "print(len(hin))\n",
    "# eng"
   ]
  },
  {
   "cell_type": "code",
   "execution_count": 26,
   "id": "unique-bankruptcy",
   "metadata": {},
   "outputs": [
    {
     "name": "stdout",
     "output_type": "stream",
     "text": [
      "edict and hdict created.....\n"
     ]
    }
   ],
   "source": [
    "#Creating English sentence and hindi sentence dictionary with ids\n",
    "edict={};hdict={}\n",
    "for i, eline in enumerate(eng,1):\n",
    "    edict[i]=eline\n",
    "for i, hline in enumerate(hin,1):\n",
    "    hdict[i]=hline\n",
    "# print(edict)\n",
    "# print(hdict)\n",
    "print(\"edict and hdict created.....\")"
   ]
  },
  {
   "cell_type": "code",
   "execution_count": 30,
   "id": "convenient-sculpture",
   "metadata": {},
   "outputs": [
    {
     "name": "stdout",
     "output_type": "stream",
     "text": [
      "E1_champollion_out EE <=> HH created...\n"
     ]
    }
   ],
   "source": [
    "#creating champollion output file in sentence format\n",
    "allealignlist = []\n",
    "allhalignlist = []\n",
    "eal = []\n",
    "hal = []\n",
    "for entry in cp:\n",
    "    if(\"<=>\" in entry):\n",
    "        eids = entry.split(\" <=> \")[0].strip()\n",
    "        hids = entry.split(\" <=> \")[1].strip()\n",
    "        if \"omitted\" in eids  :\n",
    "            eal.append(eids)\n",
    "            hal.append(int(hids))\n",
    "        elif \"omitted\" in hids  :\n",
    "            eal.append(int(eids))\n",
    "            hal.append(hids)\n",
    "        \n",
    "        elif ',' in eids and ',' not in hids:\n",
    "            eal.append([int(i) for i in eids.split(',')])\n",
    "            hal.append(int(hids))\n",
    "        elif ',' in hids and ',' not in eids:\n",
    "            eal.append(int(eids))\n",
    "            hal.append([int(i) for i in hids.split(',')])\n",
    "        elif ',' in eids and ',' in hids:\n",
    "            eal.append([int(i) for i in eids.split(',')])\n",
    "            hal.append([int(i) for i in hids.split(',')])\n",
    "        elif ',' not in eids and ',' not in hids:\n",
    "            eal.append(int(eids))\n",
    "            hal.append(int(hids))\n",
    "\n",
    "\n",
    "import itertools\n",
    "# for eids, hids, org in itertools.zip_longest(eal , hal, cp):\n",
    "#     print(eids,\"<=>\",hids,\"\\t\\t\", org)\n",
    "\n",
    "\n",
    "with open('E1_champollion_out','w') as f:\n",
    "    i=1\n",
    "    for eids, hids, org in itertools.zip_longest(eal , hal, cp):\n",
    "        if eids == \"omitted\":\n",
    "#             print(i,eids,\" <=> \",hdict[hids])\n",
    "            f.write(str(eids)+\" <=> \"+str(hids) +\"] \"+hdict[hids]+ \"\\n\")\n",
    "            \n",
    "        elif hids == \"omitted\":\n",
    "#             print(i,edict[eids],' <=> ',hids)\n",
    "            f.write(edict[eids]+' <=> '+str(hids)+ \"\\n\")\n",
    "\n",
    "        elif type(eids) is list and type(hids) is int:\n",
    "#             print(i,\" ## \".join([edict[i] for i in eids]),\" <=> \", hdict[hids])\n",
    "            f.write(\" ## \".join([str(i)+\") \"+edict[i] for i in eids])+\" <=> \"+ str(hids) +\"] \"+hdict[hids]+ \"\\n\")\n",
    "            \n",
    "        elif type(hids) is list and type(eids) is int:\n",
    "#             print(i,edict[eids],' <=> ',\" ## \".join([hdict[i] for i in hids]))\n",
    "            f.write( str(eids) +\") \"+edict[eids]+' <=> '+\" ## \".join([str(i)+\"] \"+hdict[i] for i in hids])+\"\\n\")\n",
    "        elif type(eids) is list and type(hids) is list:\n",
    "            f.write(\" ## \".join([str(i)+\") \"+edict[i] for i in eids])+\" <=> \"+\" ## \".join([str(i)+\"] \"+hdict[i] for i in hids])+ \"\\n\")\n",
    "        elif type(eids) is int and type(hids) is int:\n",
    "            f.write(str(eids) +\") \"+ edict[eids]+' <=> '+ str(hids) +\"] \"+hdict[hids]+ \"\\n\")\n",
    "        i+=1     \n",
    "\n",
    "print(\"E1_champollion_out EE <=> HH created...\")\n"
   ]
  },
  {
   "cell_type": "code",
   "execution_count": 59,
   "id": "lonely-disney",
   "metadata": {},
   "outputs": [],
   "source": [
    "# import itertools\n",
    "\n",
    "# for ebi,eleftbi,hbi,hleftbi,ch in itertools.zip_longest(ealignedids , eleftoverids, halignedids, hleftoverids,cp):\n",
    "#     print(ebi,\"<=>\",hbi)#\"=\",eleftbi,\"=\",hleftbi,\"=\\t\" ,ch)\n",
    "    \n"
   ]
  }
 ],
 "metadata": {
  "kernelspec": {
   "display_name": "Python 3",
   "language": "python",
   "name": "python3"
  },
  "language_info": {
   "codemirror_mode": {
    "name": "ipython",
    "version": 3
   },
   "file_extension": ".py",
   "mimetype": "text/x-python",
   "name": "python",
   "nbconvert_exporter": "python",
   "pygments_lexer": "ipython3",
   "version": "3.7.9"
  }
 },
 "nbformat": 4,
 "nbformat_minor": 5
}
