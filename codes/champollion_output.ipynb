{
 "cells": [
  {
   "cell_type": "code",
   "execution_count": 1,
   "id": "studied-coffee",
   "metadata": {},
   "outputs": [
    {
     "name": "stdout",
     "output_type": "stream",
     "text": [
      "77\n",
      "58\n",
      "58\n",
      "81\n",
      "79\n"
     ]
    }
   ],
   "source": [
    "cp = open('champollion/E1_The_Simplest_Way_to_a_Healthy_Life.txt_align.txt').read().split('\\n')\n",
    "bi_en = open('parallel/SentPerLine/EH1/E1_The_Simplest_Way_to_a_Healthy_Life.txt.aligned').read().split('\\n')\n",
    "bi_hi = open('parallel/SentPerLine/EH1/H1_Hindi_Dubbing_Script_-_The_Simplest_Way_to_a_Healthy_Life.txt.aligned').read().split('\\n')\n",
    "eng = open('champollion/E1_The_Simplest_Way_to_a_Healthy_Life.txt').read().split('\\n')\n",
    "hin = open('champollion/H1_Hindi_Dubbing_Script_-_The_Simplest_Way_to_a_Healthy_Life.txt').read().split('\\n')\n",
    "# print(cp)\n",
    "print(len(cp))\n",
    "# print(bi_en)\n",
    "print(len(bi_en))\n",
    "print(len(bi_hi))\n",
    "print(len(eng))\n",
    "print(len(hin))\n",
    "# eng"
   ]
  },
  {
   "cell_type": "code",
   "execution_count": 2,
   "id": "nominated-holiday",
   "metadata": {},
   "outputs": [],
   "source": [
    "#Creating English sentence and hindi sentence dictionary with ids\n",
    "edict={};hdict={}\n",
    "for i, eline in enumerate(eng,1):\n",
    "    edict[i]=eline\n",
    "for i, hline in enumerate(hin,1):\n",
    "    hdict[i]=hline\n",
    "# print(edict)\n",
    "\n",
    "# print(hdict)"
   ]
  },
  {
   "cell_type": "code",
   "execution_count": 4,
   "id": "labeled-mouse",
   "metadata": {},
   "outputs": [],
   "source": [
    "#creating champollion output file in sentence format\n",
    "allealignlist = []\n",
    "allhalignlist = []\n",
    "eal = []\n",
    "hal = []\n",
    "for entry in cp:\n",
    "    if(\"<=>\" in entry):\n",
    "        eids = entry.split(\" <=> \")[0].strip()\n",
    "        hids = entry.split(\" <=> \")[1].strip()\n",
    "        if \"omitted\" in eids  :\n",
    "            eal.append(eids)\n",
    "            hal.append(int(hids))\n",
    "        elif \"omitted\" in hids  :\n",
    "            eal.append(int(eids))\n",
    "            hal.append(hids)\n",
    "        \n",
    "        elif ',' in eids and ',' not in hids:\n",
    "            eal.append([int(i) for i in eids.split(',')])\n",
    "            hal.append(int(hids))\n",
    "        elif ',' in hids and ',' not in eids:\n",
    "            eal.append(int(eids))\n",
    "            hal.append([int(i) for i in hids.split(',')])\n",
    "        elif ',' in eids and ',' in hids:\n",
    "            eal.append([int(i) for i in eids.split(',')])\n",
    "            hal.append([int(i) for i in hids.split(',')])\n",
    "        elif ',' not in eids and ',' not in hids:\n",
    "            eal.append(int(eids))\n",
    "            hal.append(int(hids))\n",
    "\n",
    "\n",
    "import itertools\n",
    "# for eids, hids, org in itertools.zip_longest(eal , hal, cp):\n",
    "#     print(eids,\"<=>\",hids,\"\\t\\t\", org)\n",
    "\n",
    "\n",
    "with open('champollion_out','w') as f:\n",
    "    i=1\n",
    "    for eids, hids, org in itertools.zip_longest(eal , hal, cp):\n",
    "        if eids == \"omitted\":\n",
    "#             print(i,eids,\" <=> \",hdict[hids])\n",
    "            f.write(str(i)+\" \"+eids+\" <=> \"+hdict[hids]+ \"\\n\")\n",
    "            \n",
    "        elif hids == \"omitted\":\n",
    "#             print(i,edict[eids],' <=> ',hids)\n",
    "            f.write(str(i)+\" \"+edict[eids]+' <=> '+hids+ \"\\n\")\n",
    "\n",
    "        elif type(eids) is list and type(hids) is int:\n",
    "#             print(i,\" ## \".join([edict[i] for i in eids]),\" <=> \", hdict[hids])\n",
    "            f.write(str(i)+\" \"+\" ## \".join([edict[i] for i in eids])+\" <=> \"+ hdict[hids]+ \"\\n\")\n",
    "            \n",
    "        elif type(hids) is list and type(eids) is int:\n",
    "#             print(i,edict[eids],' <=> ',\" ## \".join([hdict[i] for i in hids]))\n",
    "            f.write(str(i)+\" \"+ edict[eids]+' <=> '+\" ## \".join([hdict[i] for i in hids])+\"\\n\")\n",
    "        elif type(eids) is list and type(hids) is list:\n",
    "#             print(i,\" ## \".join([edict[i] for i in eids]),\" <=> \", \" ## \".join([hdict[i] for i in hids]))\n",
    "            f.write(str(i)+\" \"+\" ## \".join([edict[i] for i in eids])+\" <=> \"+ \" ## \".join([hdict[i] for i in hids])+ \"\\n\")\n",
    "        elif type(eids) is int and type(hids) is int:\n",
    "#             print(i,edict[eids],' <=> ',hdict[hids])\n",
    "            f.write(str(i)+\" \"+ edict[eids]+' <=> '+hdict[hids]+ \"\\n\")\n",
    "        i+=1     \n"
   ]
  },
  {
   "cell_type": "code",
   "execution_count": 186,
   "id": "distinct-thickness",
   "metadata": {},
   "outputs": [],
   "source": [
    "#microsoft bialigner english missing lines\n",
    "ealignedids=[]\n",
    "for i,eline in enumerate(eng,1):\n",
    "    for j, ealigned in enumerate(bi_en,1):\n",
    "    \n",
    "        if eline == ealigned:\n",
    "#             print(i, type(i))\n",
    "            ealignedids.append(i)\n",
    "\n",
    "eleftoverids=[]\n",
    "for i, eline in enumerate(eng,1):\n",
    "    if i  not in ealignedids:\n",
    "        eleftoverids.append(i)\n",
    "\n"
   ]
  },
  {
   "cell_type": "code",
   "execution_count": 188,
   "id": "important-circular",
   "metadata": {},
   "outputs": [],
   "source": [
    "#microsoft bialigner hindi missing lines\n",
    "halignedids=[]\n",
    "for i,hline in enumerate(hin,1):\n",
    "    for j, haligned in enumerate(bi_hi,1):\n",
    "    \n",
    "        if hline == haligned:\n",
    "#             print(i, type(i))\n",
    "            halignedids.append(i)\n",
    "\n",
    "hleftoverids=[]\n",
    "for i, hline in enumerate(hin,1):\n",
    "    if i  not in halignedids:\n",
    "        hleftoverids.append(i)\n",
    "\n",
    "# import itertools\n",
    "# for c,d in itertools.zip_longest(halignedids, hleftoverids):\n",
    "#     print(c,d)"
   ]
  },
  {
   "cell_type": "code",
   "execution_count": 138,
   "id": "ambient-scale",
   "metadata": {},
   "outputs": [],
   "source": [
    "import itertools\n",
    "\n",
    "# for ebi,eleftbi,hbi,hleftbi,ch in itertools.zip_longest(ealignedids , eleftoverids, halignedids, hleftoverids,cp):\n",
    "#     print(ebi,\"<=>\",hbi)#\"=\",eleftbi,\"=\",hleftbi,\"=\\t\" ,ch)\n",
    "    \n"
   ]
  },
  {
   "cell_type": "code",
   "execution_count": null,
   "id": "choice-isolation",
   "metadata": {},
   "outputs": [],
   "source": []
  }
 ],
 "metadata": {
  "kernelspec": {
   "display_name": "Python 3",
   "language": "python",
   "name": "python3"
  },
  "language_info": {
   "codemirror_mode": {
    "name": "ipython",
    "version": 3
   },
   "file_extension": ".py",
   "mimetype": "text/x-python",
   "name": "python",
   "nbconvert_exporter": "python",
   "pygments_lexer": "ipython3",
   "version": "3.7.9"
  }
 },
 "nbformat": 4,
 "nbformat_minor": 5
}
